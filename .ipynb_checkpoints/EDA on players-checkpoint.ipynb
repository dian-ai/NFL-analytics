{
 "cells": [
  {
   "cell_type": "code",
   "execution_count": 1,
   "metadata": {},
   "outputs": [],
   "source": [
    "import pandas as pd\n",
    "import numpy as np\n",
    "import os\n",
    "import seaborn as sns\n",
    "\n",
    "import matplotlib.pyplot as plt\n",
    "import matplotlib.patches as patches\n",
    "\n",
    "\n",
    "\n",
    "sns.set(rc = {'figure.figsize':(12,7)})\n",
    "#plt.style.use(['dark_background', 'presentation'])"
   ]
  },
  {
   "cell_type": "code",
   "execution_count": 2,
   "metadata": {},
   "outputs": [],
   "source": [
    "df_players = pd.read_csv('players.csv')"
   ]
  },
  {
   "cell_type": "code",
   "execution_count": 3,
   "metadata": {},
   "outputs": [
    {
     "data": {
      "text/html": [
       "<div>\n",
       "<style scoped>\n",
       "    .dataframe tbody tr th:only-of-type {\n",
       "        vertical-align: middle;\n",
       "    }\n",
       "\n",
       "    .dataframe tbody tr th {\n",
       "        vertical-align: top;\n",
       "    }\n",
       "\n",
       "    .dataframe thead th {\n",
       "        text-align: right;\n",
       "    }\n",
       "</style>\n",
       "<table border=\"1\" class=\"dataframe\">\n",
       "  <thead>\n",
       "    <tr style=\"text-align: right;\">\n",
       "      <th></th>\n",
       "      <th>nflId</th>\n",
       "      <th>height</th>\n",
       "      <th>weight</th>\n",
       "      <th>birthDate</th>\n",
       "      <th>collegeName</th>\n",
       "      <th>position</th>\n",
       "      <th>displayName</th>\n",
       "    </tr>\n",
       "  </thead>\n",
       "  <tbody>\n",
       "    <tr>\n",
       "      <th>0</th>\n",
       "      <td>2539334</td>\n",
       "      <td>72</td>\n",
       "      <td>190</td>\n",
       "      <td>1990-09-10</td>\n",
       "      <td>Washington</td>\n",
       "      <td>CB</td>\n",
       "      <td>Desmond Trufant</td>\n",
       "    </tr>\n",
       "    <tr>\n",
       "      <th>1</th>\n",
       "      <td>2539653</td>\n",
       "      <td>70</td>\n",
       "      <td>186</td>\n",
       "      <td>1988-11-01</td>\n",
       "      <td>Southeastern Louisiana</td>\n",
       "      <td>CB</td>\n",
       "      <td>Robert Alford</td>\n",
       "    </tr>\n",
       "    <tr>\n",
       "      <th>2</th>\n",
       "      <td>2543850</td>\n",
       "      <td>69</td>\n",
       "      <td>186</td>\n",
       "      <td>1991-12-18</td>\n",
       "      <td>Purdue</td>\n",
       "      <td>SS</td>\n",
       "      <td>Ricardo Allen</td>\n",
       "    </tr>\n",
       "  </tbody>\n",
       "</table>\n",
       "</div>"
      ],
      "text/plain": [
       "     nflId height  weight   birthDate             collegeName position  \\\n",
       "0  2539334     72     190  1990-09-10              Washington       CB   \n",
       "1  2539653     70     186  1988-11-01  Southeastern Louisiana       CB   \n",
       "2  2543850     69     186  1991-12-18                  Purdue       SS   \n",
       "\n",
       "       displayName  \n",
       "0  Desmond Trufant  \n",
       "1    Robert Alford  \n",
       "2    Ricardo Allen  "
      ]
     },
     "execution_count": 3,
     "metadata": {},
     "output_type": "execute_result"
    }
   ],
   "source": [
    "df_players.head(3)"
   ]
  },
  {
   "cell_type": "code",
   "execution_count": 4,
   "metadata": {},
   "outputs": [
    {
     "data": {
      "text/plain": [
       "0        72\n",
       "1        70\n",
       "2        69\n",
       "3        73\n",
       "4        75\n",
       "       ... \n",
       "1298    6-2\n",
       "1299    6-2\n",
       "1300     78\n",
       "1301     69\n",
       "1302    6-2\n",
       "Name: height, Length: 1303, dtype: object"
      ]
     },
     "execution_count": 4,
     "metadata": {},
     "output_type": "execute_result"
    }
   ],
   "source": [
    "df_players['height']"
   ]
  },
  {
   "cell_type": "code",
   "execution_count": 6,
   "metadata": {},
   "outputs": [],
   "source": [
    "#x = df_players['height'][1299]\n",
    "#x[0]"
   ]
  },
  {
   "cell_type": "code",
   "execution_count": 7,
   "metadata": {},
   "outputs": [],
   "source": [
    "#if '-' in df_players['height'][1299]:\n",
    "#    a = int(x[0])*12+ int(x[2])"
   ]
  },
  {
   "cell_type": "code",
   "execution_count": 8,
   "metadata": {},
   "outputs": [],
   "source": [
    "#a"
   ]
  },
  {
   "cell_type": "code",
   "execution_count": 9,
   "metadata": {},
   "outputs": [],
   "source": [
    "\n",
    "df_players['height']=[int(x[0])*12 + int(x[2]) if '-' in x else x for x in df_players['height'] ]"
   ]
  },
  {
   "cell_type": "code",
   "execution_count": 9,
   "metadata": {},
   "outputs": [],
   "source": [
    "#df_players['height']=[x.replace('-','') for x in df_players['height']]"
   ]
  },
  {
   "cell_type": "code",
   "execution_count": 10,
   "metadata": {},
   "outputs": [],
   "source": [
    "df_players['height'] = pd.to_numeric(df_players['height'])"
   ]
  },
  {
   "cell_type": "code",
   "execution_count": 11,
   "metadata": {},
   "outputs": [
    {
     "data": {
      "text/plain": [
       "0       72\n",
       "1       70\n",
       "2       69\n",
       "3       73\n",
       "4       75\n",
       "        ..\n",
       "1298    74\n",
       "1299    74\n",
       "1300    78\n",
       "1301    69\n",
       "1302    74\n",
       "Name: height, Length: 1303, dtype: int64"
      ]
     },
     "execution_count": 11,
     "metadata": {},
     "output_type": "execute_result"
    }
   ],
   "source": [
    "df_players['height'] "
   ]
  },
  {
   "cell_type": "code",
   "execution_count": 13,
   "metadata": {},
   "outputs": [
    {
     "data": {
      "image/png": "[encoded data removed]",
      "text/plain": [
       "<Figure size 864x504 with 1 Axes>"
      ]
     },
     "metadata": {},
     "output_type": "display_data"
    }
   ],
   "source": [
    "list1 = []\n",
    "for i in df_players['collegeName']:\n",
    "    list1.append(i)\n",
    "ax = pd.Series(list1).value_counts()[:10].sort_values(ascending=True).plot.barh(width=0.9,color=sns.color_palette('hls',10))\n",
    "for i, v in enumerate(pd.Series(list1).value_counts()[:10].sort_values(ascending=True).values): \n",
    "    ax.text(.8, i, v,fontsize=12,color='white',weight='bold')\n",
    "plt.title('Top Colleges')\n",
    "#plt.rcParams['ax.facecolor'] = 'black'\n",
    "plt.show()\n",
    "plt.style.use(['dark_background'])\n",
    "#plt.style.use('ggplot')"
   ]
  },
  {
   "cell_type": "code",
   "execution_count": 14,
   "metadata": {},
   "outputs": [],
   "source": [
    "df_top_colleges = pd.DataFrame(df_players.groupby('collegeName').size().sort_values(ascending = False))"
   ]
  },
  {
   "cell_type": "code",
   "execution_count": 15,
   "metadata": {},
   "outputs": [
    {
     "data": {
      "text/html": [
       "<div>\n",
       "<style scoped>\n",
       "    .dataframe tbody tr th:only-of-type {\n",
       "        vertical-align: middle;\n",
       "    }\n",
       "\n",
       "    .dataframe tbody tr th {\n",
       "        vertical-align: top;\n",
       "    }\n",
       "\n",
       "    .dataframe thead th {\n",
       "        text-align: right;\n",
       "    }\n",
       "</style>\n",
       "<table border=\"1\" class=\"dataframe\">\n",
       "  <thead>\n",
       "    <tr style=\"text-align: right;\">\n",
       "      <th></th>\n",
       "      <th>number of players</th>\n",
       "    </tr>\n",
       "    <tr>\n",
       "      <th>collegeName</th>\n",
       "      <th></th>\n",
       "    </tr>\n",
       "  </thead>\n",
       "  <tbody>\n",
       "    <tr>\n",
       "      <th>Alabama</th>\n",
       "      <td>33</td>\n",
       "    </tr>\n",
       "    <tr>\n",
       "      <th>Ohio State</th>\n",
       "      <td>28</td>\n",
       "    </tr>\n",
       "    <tr>\n",
       "      <th>Florida State</th>\n",
       "      <td>27</td>\n",
       "    </tr>\n",
       "    <tr>\n",
       "      <th>Florida</th>\n",
       "      <td>26</td>\n",
       "    </tr>\n",
       "    <tr>\n",
       "      <th>Louisiana State</th>\n",
       "      <td>25</td>\n",
       "    </tr>\n",
       "    <tr>\n",
       "      <th>...</th>\n",
       "      <td>...</td>\n",
       "    </tr>\n",
       "    <tr>\n",
       "      <th>Monmouth (N.J.)</th>\n",
       "      <td>1</td>\n",
       "    </tr>\n",
       "    <tr>\n",
       "      <th>Missouri State</th>\n",
       "      <td>1</td>\n",
       "    </tr>\n",
       "    <tr>\n",
       "      <th>Yale</th>\n",
       "      <td>1</td>\n",
       "    </tr>\n",
       "    <tr>\n",
       "      <th>Minn. State-Mankato</th>\n",
       "      <td>1</td>\n",
       "    </tr>\n",
       "    <tr>\n",
       "      <th>Missouri Southern</th>\n",
       "      <td>1</td>\n",
       "    </tr>\n",
       "  </tbody>\n",
       "</table>\n",
       "<p>251 rows × 1 columns</p>\n",
       "</div>"
      ],
      "text/plain": [
       "                     number of players\n",
       "collegeName                           \n",
       "Alabama                             33\n",
       "Ohio State                          28\n",
       "Florida State                       27\n",
       "Florida                             26\n",
       "Louisiana State                     25\n",
       "...                                ...\n",
       "Monmouth (N.J.)                      1\n",
       "Missouri State                       1\n",
       "Yale                                 1\n",
       "Minn. State-Mankato                  1\n",
       "Missouri Southern                    1\n",
       "\n",
       "[251 rows x 1 columns]"
      ]
     },
     "execution_count": 15,
     "metadata": {},
     "output_type": "execute_result"
    }
   ],
   "source": [
    "df_top_colleges.rename(columns={0: \"number of players\"})"
   ]
  },
  {
   "cell_type": "code",
   "execution_count": 17,
   "metadata": {},
   "outputs": [
    {
     "data": {
      "text/plain": [
       "0       1990-09-10\n",
       "1       1988-11-01\n",
       "2       1991-12-18\n",
       "3       1994-11-04\n",
       "4       1993-07-01\n",
       "           ...    \n",
       "1298    09/17/1991\n",
       "1299    05/17/1994\n",
       "1300    1992-04-25\n",
       "1301    1993-03-15\n",
       "1302    10/12/1995\n",
       "Name: birthDate, Length: 1303, dtype: object"
      ]
     },
     "execution_count": 17,
     "metadata": {},
     "output_type": "execute_result"
    }
   ],
   "source": [
    "df_players['birthDate']"
   ]
  },
  {
   "cell_type": "code",
   "execution_count": 21,
   "metadata": {},
   "outputs": [],
   "source": [
    "#format all the birthdates into the same format"
   ]
  },
  {
   "cell_type": "code",
   "execution_count": 19,
   "metadata": {},
   "outputs": [],
   "source": [
    "df_players['birthDate'] = pd.to_datetime(df_players['birthDate']).dt.strftime('%m/%d/%Y')"
   ]
  },
  {
   "cell_type": "code",
   "execution_count": 26,
   "metadata": {},
   "outputs": [
    {
     "data": {
      "text/plain": [
       "dtype('<M8[ns]')"
      ]
     },
     "execution_count": 26,
     "metadata": {},
     "output_type": "execute_result"
    }
   ],
   "source": [
    "df_players['birthDate']= pd.to_datetime(df_players['birthDate'])\n",
    "df_players['birthDate'].dtype"
   ]
  },
  {
   "cell_type": "code",
   "execution_count": 27,
   "metadata": {},
   "outputs": [
    {
     "data": {
      "text/plain": [
       "<AxesSubplot:xlabel='birthDate'>"
      ]
     },
     "execution_count": 27,
     "metadata": {},
     "output_type": "execute_result"
    },
    {
     "data": {
      "image/png": "[encoded data removed]",
      "text/plain": [
       "<Figure size 864x504 with 1 Axes>"
      ]
     },
     "metadata": {},
     "output_type": "display_data"
    }
   ],
   "source": [
    "df_players.groupby(df_players['birthDate'].dt.year).count().plot(kind=\"bar\")"
   ]
  },
  {
   "cell_type": "code",
   "execution_count": 57,
   "metadata": {},
   "outputs": [
    {
     "data": {
      "image/png": "[encoded data removed]",
      "text/plain": [
       "<Figure size 864x504 with 1 Axes>"
      ]
     },
     "metadata": {},
     "output_type": "display_data"
    }
   ],
   "source": [
    "ax = sns.distplot(df_players['birthDate'], kde=False,hist= True, norm_hist=False)\n",
    "#ax.set_xlim(df_players['birthDate'].min(),df_players['birthDate'].max())\n",
    "#ax.set_xticks(range(1,32))"
   ]
  },
  {
   "cell_type": "code",
   "execution_count": 55,
   "metadata": {},
   "outputs": [],
   "source": [
    "#sns.kdeplot(x=df_players[\"birthDate\"], data = df_players)"
   ]
  },
  {
   "cell_type": "code",
   "execution_count": 39,
   "metadata": {},
   "outputs": [],
   "source": [
    "#formatted_df = df_players['birthDate'].dt.strftime(\"%y\")"
   ]
  },
  {
   "cell_type": "code",
   "execution_count": 46,
   "metadata": {},
   "outputs": [],
   "source": [
    "#import matplotlib.ticker as tkr\n",
    "#ax = sns.distplot(df_players['birthDate'], kde=False,hist= True, norm_hist=False)\n",
    "#ax.xaxis.set_major_formatter(tkr.FormatStrFormatter(\"%y\"))"
   ]
  },
  {
   "cell_type": "code",
   "execution_count": 47,
   "metadata": {},
   "outputs": [],
   "source": [
    "#import matplotlib.ticker as tkr\n",
    "#import matplotlib.dates as mdates\n",
    "\n",
    "#ax = sns.distplot(df_players['birthDate'], kde=False,hist= True, norm_hist=False)\n",
    "#years = mdates.YearLocator()   # every year\n",
    "#months = mdates.MonthLocator()  # every month\n",
    "#yearsFmt = mdates.DateFormatter('%Y')\n",
    "#ax.xaxis.set_major_locator(years)\n",
    "#ax.xaxis.set_major_formatter(yearsFmt)\n",
    "#ax.xaxis.set_minor_locator(months)\n",
    "\n",
    "#datemin = datetime.date(r.date.min().year, 1, 1)\n",
    "#datemax = datetime.date(r.date.max().year + 1, 1, 1)\n",
    "#ax.set_xlim(datemin, datemax)"
   ]
  },
  {
   "cell_type": "code",
   "execution_count": null,
   "metadata": {},
   "outputs": [],
   "source": []
  }
 ],
 "metadata": {
  "kernelspec": {
   "display_name": "Python 3",
   "language": "python",
   "name": "python3"
  },
  "language_info": {
   "codemirror_mode": {
    "name": "ipython",
    "version": 3
   },
   "file_extension": ".py",
   "mimetype": "text/x-python",
   "name": "python",
   "nbconvert_exporter": "python",
   "pygments_lexer": "ipython3",
   "version": "3.8.3"
  }
 },
 "nbformat": 4,
 "nbformat_minor": 4
}
